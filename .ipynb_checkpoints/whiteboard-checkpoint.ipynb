{
 "cells": [
  {
   "cell_type": "code",
   "execution_count": 4,
   "metadata": {},
   "outputs": [
    {
     "data": {
      "text/plain": [
       "{0: array([[0.41236629, 0.40861853, 0.08011958, 0.83648229, 0.14354606,\n",
       "         0.89971214],\n",
       "        [0.0237618 , 0.38159273, 0.51186258, 0.35655102, 0.98945311,\n",
       "         0.37333284],\n",
       "        [0.2919255 , 0.8951997 , 0.73740081, 0.01955672, 0.48631684,\n",
       "         0.4530765 ],\n",
       "        [0.21003385, 0.5580724 , 0.53687104, 0.42173339, 0.40888241,\n",
       "         0.69437472],\n",
       "        [0.48473298, 0.08950427, 0.31361473, 0.68630651, 0.71753315,\n",
       "         0.19649277]]), 1: array([[0.11349579, 0.51669152],\n",
       "        [0.47049378, 0.67597653],\n",
       "        [0.80009133, 0.47268146],\n",
       "        [0.77832007, 0.88580391],\n",
       "        [0.90931032, 0.15675855],\n",
       "        [0.41047919, 0.62199059]])}"
      ]
     },
     "execution_count": 4,
     "metadata": {},
     "output_type": "execute_result"
    }
   ],
   "source": [
    "import numpy as np\n",
    "layer_structure = [5, 6, 2]\n",
    "weights = {i: np.random.rand(element, layer_structure[i+1]) for i, element in enumerate(layer_structure[:-1])}\n",
    "weights"
   ]
  },
  {
   "cell_type": "code",
   "execution_count": null,
   "metadata": {},
   "outputs": [],
   "source": []
  }
 ],
 "metadata": {
  "kernelspec": {
   "display_name": "Python 3",
   "language": "python",
   "name": "python3"
  },
  "language_info": {
   "codemirror_mode": {
    "name": "ipython",
    "version": 3
   },
   "file_extension": ".py",
   "mimetype": "text/x-python",
   "name": "python",
   "nbconvert_exporter": "python",
   "pygments_lexer": "ipython3",
   "version": "3.7.1"
  }
 },
 "nbformat": 4,
 "nbformat_minor": 2
}
