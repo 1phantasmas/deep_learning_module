{
 "cells": [
  {
   "cell_type": "code",
   "execution_count": 1,
   "metadata": {},
   "outputs": [
    {
     "data": {
      "text/html": [
       "<div>\n",
       "<style scoped>\n",
       "    .dataframe tbody tr th:only-of-type {\n",
       "        vertical-align: middle;\n",
       "    }\n",
       "\n",
       "    .dataframe tbody tr th {\n",
       "        vertical-align: top;\n",
       "    }\n",
       "\n",
       "    .dataframe thead th {\n",
       "        text-align: right;\n",
       "    }\n",
       "</style>\n",
       "<table border=\"1\" class=\"dataframe\">\n",
       "  <thead>\n",
       "    <tr style=\"text-align: right;\">\n",
       "      <th></th>\n",
       "      <th>Survived</th>\n",
       "      <th>Pclass</th>\n",
       "      <th>Name</th>\n",
       "      <th>Sex</th>\n",
       "      <th>Age</th>\n",
       "      <th>SibSp</th>\n",
       "      <th>Parch</th>\n",
       "      <th>Ticket</th>\n",
       "      <th>Fare</th>\n",
       "      <th>Cabin</th>\n",
       "      <th>Embarked</th>\n",
       "    </tr>\n",
       "    <tr>\n",
       "      <th>PassengerId</th>\n",
       "      <th></th>\n",
       "      <th></th>\n",
       "      <th></th>\n",
       "      <th></th>\n",
       "      <th></th>\n",
       "      <th></th>\n",
       "      <th></th>\n",
       "      <th></th>\n",
       "      <th></th>\n",
       "      <th></th>\n",
       "      <th></th>\n",
       "    </tr>\n",
       "  </thead>\n",
       "  <tbody>\n",
       "    <tr>\n",
       "      <th>1</th>\n",
       "      <td>0</td>\n",
       "      <td>3</td>\n",
       "      <td>Braund, Mr. Owen Harris</td>\n",
       "      <td>male</td>\n",
       "      <td>22.0</td>\n",
       "      <td>1</td>\n",
       "      <td>0</td>\n",
       "      <td>A/5 21171</td>\n",
       "      <td>7.2500</td>\n",
       "      <td>NaN</td>\n",
       "      <td>S</td>\n",
       "    </tr>\n",
       "    <tr>\n",
       "      <th>2</th>\n",
       "      <td>1</td>\n",
       "      <td>1</td>\n",
       "      <td>Cumings, Mrs. John Bradley (Florence Briggs Th...</td>\n",
       "      <td>female</td>\n",
       "      <td>38.0</td>\n",
       "      <td>1</td>\n",
       "      <td>0</td>\n",
       "      <td>PC 17599</td>\n",
       "      <td>71.2833</td>\n",
       "      <td>C85</td>\n",
       "      <td>C</td>\n",
       "    </tr>\n",
       "    <tr>\n",
       "      <th>3</th>\n",
       "      <td>1</td>\n",
       "      <td>3</td>\n",
       "      <td>Heikkinen, Miss. Laina</td>\n",
       "      <td>female</td>\n",
       "      <td>26.0</td>\n",
       "      <td>0</td>\n",
       "      <td>0</td>\n",
       "      <td>STON/O2. 3101282</td>\n",
       "      <td>7.9250</td>\n",
       "      <td>NaN</td>\n",
       "      <td>S</td>\n",
       "    </tr>\n",
       "    <tr>\n",
       "      <th>4</th>\n",
       "      <td>1</td>\n",
       "      <td>1</td>\n",
       "      <td>Futrelle, Mrs. Jacques Heath (Lily May Peel)</td>\n",
       "      <td>female</td>\n",
       "      <td>35.0</td>\n",
       "      <td>1</td>\n",
       "      <td>0</td>\n",
       "      <td>113803</td>\n",
       "      <td>53.1000</td>\n",
       "      <td>C123</td>\n",
       "      <td>S</td>\n",
       "    </tr>\n",
       "  </tbody>\n",
       "</table>\n",
       "</div>"
      ],
      "text/plain": [
       "             Survived  Pclass  \\\n",
       "PassengerId                     \n",
       "1                   0       3   \n",
       "2                   1       1   \n",
       "3                   1       3   \n",
       "4                   1       1   \n",
       "\n",
       "                                                          Name     Sex   Age  \\\n",
       "PassengerId                                                                    \n",
       "1                                      Braund, Mr. Owen Harris    male  22.0   \n",
       "2            Cumings, Mrs. John Bradley (Florence Briggs Th...  female  38.0   \n",
       "3                                       Heikkinen, Miss. Laina  female  26.0   \n",
       "4                 Futrelle, Mrs. Jacques Heath (Lily May Peel)  female  35.0   \n",
       "\n",
       "             SibSp  Parch            Ticket     Fare Cabin Embarked  \n",
       "PassengerId                                                          \n",
       "1                1      0         A/5 21171   7.2500   NaN        S  \n",
       "2                1      0          PC 17599  71.2833   C85        C  \n",
       "3                0      0  STON/O2. 3101282   7.9250   NaN        S  \n",
       "4                1      0            113803  53.1000  C123        S  "
      ]
     },
     "execution_count": 1,
     "metadata": {},
     "output_type": "execute_result"
    }
   ],
   "source": [
    "# 19.06.27 Thu\n",
    "# 1. Roughly Cutted out Datas\n",
    "# 2. Roughly trained them with \"My\" Model\n",
    "# \n",
    "# To do From now on\n",
    "# - improve accuracy with \"My\" Model, editing some codes little by little,\n",
    "#   need to study more...\n",
    "# - study more about data truncating\n",
    "# - how should we deal with Categorical Datas? Will gender, ticket-class have any tendency?\n",
    "#   need to see covariance between them\n",
    "import numpy as np\n",
    "import pandas as pd\n",
    "\n",
    "# calling data by pandas\n",
    "# passenger id, no needed...\n",
    "data_ = pd.read_csv(\"train.csv\", index_col=0)\n",
    "data_.head(4)"
   ]
  },
  {
   "cell_type": "code",
   "execution_count": 2,
   "metadata": {},
   "outputs": [
    {
     "data": {
      "text/plain": [
       "1601                 7\n",
       "347082               7\n",
       "CA. 2343             7\n",
       "3101295              6\n",
       "CA 2144              6\n",
       "347088               6\n",
       "382652               5\n",
       "S.O.C. 14879         5\n",
       "4133                 4\n",
       "349909               4\n",
       "2666                 4\n",
       "113760               4\n",
       "19950                4\n",
       "W./C. 6608           4\n",
       "113781               4\n",
       "LINE                 4\n",
       "PC 17757             4\n",
       "17421                4\n",
       "347077               4\n",
       "230080               3\n",
       "24160                3\n",
       "35273                3\n",
       "110152               3\n",
       "PC 17760             3\n",
       "110413               3\n",
       "PC 17755             3\n",
       "C.A. 34651           3\n",
       "347742               3\n",
       "345773               3\n",
       "371110               3\n",
       "                    ..\n",
       "5727                 1\n",
       "347060               1\n",
       "234604               1\n",
       "239854               1\n",
       "SOTON/OQ 392090      1\n",
       "SC/PARIS 2167        1\n",
       "111240               1\n",
       "3101264              1\n",
       "349246               1\n",
       "392092               1\n",
       "3101281              1\n",
       "350036               1\n",
       "343120               1\n",
       "113043               1\n",
       "350060               1\n",
       "350404               1\n",
       "A/5 21173            1\n",
       "SC/PARIS 2149        1\n",
       "SOTON/O.Q. 392087    1\n",
       "112379               1\n",
       "374746               1\n",
       "312993               1\n",
       "11769                1\n",
       "349213               1\n",
       "330923               1\n",
       "28425                1\n",
       "A/5 21172            1\n",
       "244361               1\n",
       "C.A. 24579           1\n",
       "29751                1\n",
       "Name: Ticket, Length: 681, dtype: int64"
      ]
     },
     "execution_count": 2,
     "metadata": {},
     "output_type": "execute_result"
    }
   ],
   "source": [
    "# Guess Ticket would work but doesn't seem to work nicely\n",
    "# Fare and Cabin and Embarked ... not much relevance\n",
    "# let's take Pclass, Age, SibSp, Parch and Fare for now\n",
    "data_['Ticket'].value_counts()"
   ]
  },
  {
   "cell_type": "code",
   "execution_count": 3,
   "metadata": {},
   "outputs": [
    {
     "data": {
      "text/plain": [
       "8.0500      43\n",
       "13.0000     42\n",
       "7.8958      38\n",
       "7.7500      34\n",
       "26.0000     31\n",
       "10.5000     24\n",
       "7.9250      18\n",
       "7.7750      16\n",
       "26.5500     15\n",
       "0.0000      15\n",
       "7.2292      15\n",
       "7.8542      13\n",
       "8.6625      13\n",
       "7.2500      13\n",
       "7.2250      12\n",
       "16.1000      9\n",
       "9.5000       9\n",
       "24.1500      8\n",
       "15.5000      8\n",
       "56.4958      7\n",
       "52.0000      7\n",
       "14.5000      7\n",
       "14.4542      7\n",
       "69.5500      7\n",
       "7.0500       7\n",
       "31.2750      7\n",
       "46.9000      6\n",
       "30.0000      6\n",
       "7.7958       6\n",
       "39.6875      6\n",
       "            ..\n",
       "7.1417       1\n",
       "42.4000      1\n",
       "211.5000     1\n",
       "12.2750      1\n",
       "61.1750      1\n",
       "8.4333       1\n",
       "51.4792      1\n",
       "7.8875       1\n",
       "8.6833       1\n",
       "7.5208       1\n",
       "34.6542      1\n",
       "28.7125      1\n",
       "25.5875      1\n",
       "7.7292       1\n",
       "12.2875      1\n",
       "8.6542       1\n",
       "8.7125       1\n",
       "61.3792      1\n",
       "6.9500       1\n",
       "9.8417       1\n",
       "8.3000       1\n",
       "13.7917      1\n",
       "9.4750       1\n",
       "13.4167      1\n",
       "26.3875      1\n",
       "8.4583       1\n",
       "9.8375       1\n",
       "8.3625       1\n",
       "14.1083      1\n",
       "17.4000      1\n",
       "Name: Fare, Length: 248, dtype: int64"
      ]
     },
     "execution_count": 3,
     "metadata": {},
     "output_type": "execute_result"
    }
   ],
   "source": [
    "data_['Fare'].value_counts()"
   ]
  },
  {
   "cell_type": "code",
   "execution_count": 4,
   "metadata": {},
   "outputs": [
    {
     "data": {
      "text/plain": [
       "C23 C25 C27    4\n",
       "G6             4\n",
       "B96 B98        4\n",
       "F33            3\n",
       "F2             3\n",
       "C22 C26        3\n",
       "D              3\n",
       "E101           3\n",
       "F G73          2\n",
       "B49            2\n",
       "B28            2\n",
       "E67            2\n",
       "D33            2\n",
       "B5             2\n",
       "C124           2\n",
       "B20            2\n",
       "C126           2\n",
       "B51 B53 B55    2\n",
       "E121           2\n",
       "E44            2\n",
       "C68            2\n",
       "E33            2\n",
       "D35            2\n",
       "B18            2\n",
       "C65            2\n",
       "E8             2\n",
       "C92            2\n",
       "B58 B60        2\n",
       "E24            2\n",
       "E25            2\n",
       "              ..\n",
       "B50            1\n",
       "C106           1\n",
       "B86            1\n",
       "D49            1\n",
       "B78            1\n",
       "E77            1\n",
       "E50            1\n",
       "E36            1\n",
       "C91            1\n",
       "D50            1\n",
       "C7             1\n",
       "A16            1\n",
       "A26            1\n",
       "E10            1\n",
       "B79            1\n",
       "A5             1\n",
       "B39            1\n",
       "A36            1\n",
       "B41            1\n",
       "B71            1\n",
       "C87            1\n",
       "E58            1\n",
       "C111           1\n",
       "D15            1\n",
       "A10            1\n",
       "B69            1\n",
       "D11            1\n",
       "E49            1\n",
       "E31            1\n",
       "E34            1\n",
       "Name: Cabin, Length: 147, dtype: int64"
      ]
     },
     "execution_count": 4,
     "metadata": {},
     "output_type": "execute_result"
    }
   ],
   "source": [
    "data_['Cabin'].value_counts()"
   ]
  },
  {
   "cell_type": "code",
   "execution_count": 5,
   "metadata": {},
   "outputs": [
    {
     "name": "stdout",
     "output_type": "stream",
     "text": [
      "<class 'pandas.core.frame.DataFrame'>\n",
      "Int64Index: 891 entries, 1 to 891\n",
      "Data columns (total 5 columns):\n",
      "Pclass    891 non-null int64\n",
      "Age       714 non-null float64\n",
      "SibSp     891 non-null int64\n",
      "Parch     891 non-null int64\n",
      "Fare      891 non-null float64\n",
      "dtypes: float64(2), int64(3)\n",
      "memory usage: 41.8 KB\n"
     ]
    }
   ],
   "source": [
    "# name... would not affect to sb's survival at all...\n",
    "# sex may be relevant due to some physical\n",
    "# Siblings and Spouses might affect because it would either help them survive or the opposite\n",
    "# Parents and Children would samely affect from SibSp\n",
    "data_[['Pclass', 'Age', 'SibSp', 'Parch', 'Fare']].info()"
   ]
  },
  {
   "cell_type": "code",
   "execution_count": null,
   "metadata": {},
   "outputs": [],
   "source": []
  },
  {
   "cell_type": "code",
   "execution_count": 6,
   "metadata": {},
   "outputs": [],
   "source": [
    "# but 'age' doesn't have full data\n",
    "# we need to interpolate them in some way\n",
    "feature = np.array(data_[['Pclass', 'SibSp', 'Parch', 'Fare']])\n",
    "target = np.array(data_['Survived'])"
   ]
  },
  {
   "cell_type": "code",
   "execution_count": 7,
   "metadata": {},
   "outputs": [],
   "source": [
    "from data_analysis.main import *\n",
    "from data_analysis.loss_function import *\n",
    "from data_analysis.optimizer import *"
   ]
  },
  {
   "cell_type": "code",
   "execution_count": 8,
   "metadata": {},
   "outputs": [
    {
     "name": "stdout",
     "output_type": "stream",
     "text": [
      "There are 4 options of optimizers\n",
      "1. Normal Stochastic Gradient\n",
      "2. Momentum SGD\n",
      "3. AdaGrad SGD\n",
      "4. Adam(combination of Momentum SGD and AdaGrad)\n",
      "5. Nesterov\n",
      "Type in the number of what to optimize : 1\n",
      "There are 4 options of optimizers\n",
      "1. Normal Stochastic Gradient\n",
      "2. Momentum SGD\n",
      "3. AdaGrad SGD\n",
      "4. Adam(combination of Momentum SGD and AdaGrad)\n",
      "5. Nesterov\n",
      "Type in the number of what to optimize : 2\n",
      "There are 4 options of optimizers\n",
      "1. Normal Stochastic Gradient\n",
      "2. Momentum SGD\n",
      "3. AdaGrad SGD\n",
      "4. Adam(combination of Momentum SGD and AdaGrad)\n",
      "5. Nesterov\n",
      "Type in the number of what to optimize : 4\n"
     ]
    }
   ],
   "source": [
    "model_sgd = Model(feature, target, LogLikelihood)\n",
    "model_mom = Model(feature, target, LogLikelihood)\n",
    "model_adam = Model(feature, target, LogLikelihood)"
   ]
  },
  {
   "cell_type": "code",
   "execution_count": 9,
   "metadata": {},
   "outputs": [
    {
     "data": {
      "text/plain": [
       "array([-0.16925139,  0.99161714, -0.8906637 ,  0.11141137,  1.3886144 ])"
      ]
     },
     "execution_count": 9,
     "metadata": {},
     "output_type": "execute_result"
    }
   ],
   "source": [
    "model_sgd.beta"
   ]
  },
  {
   "cell_type": "code",
   "execution_count": 10,
   "metadata": {},
   "outputs": [],
   "source": [
    "# to see how they learn well, set all three same\n",
    "model_mom.beta = model_sgd.beta.copy()\n",
    "model_adam.beta = model_sgd.beta.copy()"
   ]
  },
  {
   "cell_type": "code",
   "execution_count": 11,
   "metadata": {},
   "outputs": [
    {
     "name": "stdout",
     "output_type": "stream",
     "text": [
      "38.38383838383838\n",
      "38.38383838383838\n",
      "38.38383838383838\n"
     ]
    },
    {
     "data": {
      "text/plain": [
       "38.38383838383838"
      ]
     },
     "execution_count": 11,
     "metadata": {},
     "output_type": "execute_result"
    }
   ],
   "source": [
    "# absolutely they should value the same\n",
    "model_sgd.loss_function.accuracy(model_sgd.beta)\n",
    "model_mom.loss_function.accuracy(model_mom.beta)\n",
    "model_adam.loss_function.accuracy(model_adam.beta)"
   ]
  },
  {
   "cell_type": "code",
   "execution_count": 12,
   "metadata": {},
   "outputs": [
    {
     "name": "stdout",
     "output_type": "stream",
     "text": [
      "SGD\n",
      "[-0.16925139  0.99161714 -0.8906637   0.11141137  1.3886144 ]\n",
      "38.38383838383838\n",
      "68.79910213243546\n",
      "[-0.13297167 -0.43834208 -0.50449504  0.24989341  0.04020526]\n",
      "\n",
      "\n",
      "Momentum\n",
      "[-0.16925139  0.99161714 -0.8906637   0.11141137  1.3886144 ]\n",
      "38.38383838383838\n",
      "61.61616161616161\n",
      "[-4.35396624  0.86740129 -1.05195298  0.39548509 -4.06723847]\n",
      "\n",
      "\n",
      "AdaM\n",
      "[-0.16925139  0.99161714 -0.8906637   0.11141137  1.3886144 ]\n",
      "38.38383838383838\n",
      "59.82042648709316\n",
      "[ 0.35837845 -0.51486537 -0.20960528  0.29187617  0.12860893]\n",
      "\n",
      "\n"
     ]
    }
   ],
   "source": [
    "print(\"SGD\")\n",
    "print(model_sgd.beta)\n",
    "model_sgd.train()\n",
    "print(model_sgd.beta)\n",
    "print(\"\\n\")\n",
    "\n",
    "print(\"Momentum\")\n",
    "print(model_mom.beta)\n",
    "model_mom.train()\n",
    "print(model_mom.beta)\n",
    "print(\"\\n\")\n",
    "\n",
    "print(\"AdaM\")\n",
    "print(model_adam.beta)\n",
    "model_adam.train()\n",
    "print(model_adam.beta)\n",
    "print(\"\\n\")"
   ]
  },
  {
   "cell_type": "code",
   "execution_count": 13,
   "metadata": {},
   "outputs": [],
   "source": [
    "# all for today\n",
    "# tomorrow\n",
    "# - truncate age, which is really important\n",
    "# - 1. interpolate 'nan' datas\n",
    "# - 2. or just delete the whole 'nan'\n",
    "#\n",
    "# - How should we deal with categorical datas - 'Pclass', 'Sex'"
   ]
  }
 ],
 "metadata": {
  "kernelspec": {
   "display_name": "Python 3",
   "language": "python",
   "name": "python3"
  },
  "language_info": {
   "codemirror_mode": {
    "name": "ipython",
    "version": 3
   },
   "file_extension": ".py",
   "mimetype": "text/x-python",
   "name": "python",
   "nbconvert_exporter": "python",
   "pygments_lexer": "ipython3",
   "version": "3.7.1"
  }
 },
 "nbformat": 4,
 "nbformat_minor": 2
}
