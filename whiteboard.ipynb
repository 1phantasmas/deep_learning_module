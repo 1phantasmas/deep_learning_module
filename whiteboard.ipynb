{
 "cells": [
  {
   "cell_type": "code",
   "execution_count": null,
   "metadata": {},
   "outputs": [],
   "source": [
    "from loss_function import *\n",
    "from main import *\n",
    "from optimizer import *\n",
    "#from test import *\n",
    "import csv"
   ]
  },
  {
   "cell_type": "code",
   "execution_count": null,
   "metadata": {},
   "outputs": [],
   "source": [
    "diabetes_csv = csv.reader(open(\"C:/Users/J/Dropbox/Doodle/final_project/datasets/diabetes.csv\"))\n",
    "header_diabetes = diabetes_csv.__next__()\n",
    "\n",
    "diabetes_raw = list(d for d in diabetes_csv)\n",
    "diabetes_feature = [[float(di) for di in d[:-1]] for d in diabetes_raw]\n",
    "diabetes_target = list([int(d[-1]) for d in diabetes_raw])"
   ]
  },
  {
   "cell_type": "code",
   "execution_count": null,
   "metadata": {},
   "outputs": [],
   "source": [
    "diabetes = Model(diabetes_feature, diabetes_target, LogisticRegression)"
   ]
  },
  {
   "cell_type": "code",
   "execution_count": null,
   "metadata": {},
   "outputs": [],
   "source": [
    "diabetes.loss_function.accuracy(diabetes.beta)"
   ]
  },
  {
   "cell_type": "code",
   "execution_count": null,
   "metadata": {},
   "outputs": [],
   "source": [
    "diabetes.train()"
   ]
  },
  {
   "cell_type": "code",
   "execution_count": null,
   "metadata": {},
   "outputs": [],
   "source": [
    "#beta_587 = diabetes.beta # 587\n",
    "beta_587"
   ]
  },
  {
   "cell_type": "code",
   "execution_count": null,
   "metadata": {},
   "outputs": [],
   "source": []
  },
  {
   "cell_type": "code",
   "execution_count": null,
   "metadata": {},
   "outputs": [],
   "source": [
    "boston_ = csv.reader(open(\"C:/Users/J/Dropbox/Doodle/final_project/datasets/boston.csv\"))\n",
    "header_boston = boston_.__next__()\n",
    "\n",
    "boston_raw = list(d for d in boston_)\n",
    "boston_feature = [[float(di) for di in d[:-1]] for d in boston_raw]\n",
    "boston_target = list([float(d[-1]) for d in boston_raw])"
   ]
  },
  {
   "cell_type": "code",
   "execution_count": null,
   "metadata": {},
   "outputs": [],
   "source": [
    "car_ = csv.reader(open(\"car.csv\"))\n",
    "header_car = car_.__next__()\n",
    "\n",
    "car_raw = list(d for d in car_)\n",
    "car_feature = [[float(di) for di in d[:-1]] for d in car_raw]\n",
    "car_target = list([float(d[-1]) for d in car_raw])"
   ]
  },
  {
   "cell_type": "code",
   "execution_count": null,
   "metadata": {},
   "outputs": [],
   "source": [
    "car = Model(car_feature, car_target, LinearRegression)"
   ]
  },
  {
   "cell_type": "code",
   "execution_count": null,
   "metadata": {},
   "outputs": [],
   "source": [
    "car.beta"
   ]
  },
  {
   "cell_type": "code",
   "execution_count": null,
   "metadata": {},
   "outputs": [],
   "source": [
    "car.loss_function.full_loss(car.beta)"
   ]
  },
  {
   "cell_type": "code",
   "execution_count": null,
   "metadata": {},
   "outputs": [],
   "source": [
    "sum((car.target - (sum(car.target) / car.target.shape)) ** 2)"
   ]
  },
  {
   "cell_type": "code",
   "execution_count": null,
   "metadata": {},
   "outputs": [],
   "source": [
    "car.train()"
   ]
  },
  {
   "cell_type": "code",
   "execution_count": null,
   "metadata": {
    "scrolled": true
   },
   "outputs": [],
   "source": [
    "boston = Model(boston_feature, boston_target, LinearRegression)"
   ]
  },
  {
   "cell_type": "code",
   "execution_count": null,
   "metadata": {},
   "outputs": [],
   "source": [
    "boston.batch_normalize()"
   ]
  },
  {
   "cell_type": "code",
   "execution_count": null,
   "metadata": {},
   "outputs": [],
   "source": [
    "boston.loss_function.accuracy(boston.beta)"
   ]
  },
  {
   "cell_type": "code",
   "execution_count": null,
   "metadata": {},
   "outputs": [],
   "source": [
    "boston.loss_function.full_loss(boston.beta)"
   ]
  },
  {
   "cell_type": "code",
   "execution_count": null,
   "metadata": {},
   "outputs": [],
   "source": [
    "boston.train()"
   ]
  },
  {
   "cell_type": "code",
   "execution_count": null,
   "metadata": {},
   "outputs": [],
   "source": [
    "beta = boston.beta[:]\n",
    "for x_i, y_i in zip(boston.feature, boston.target):\n",
    "    print(2 * np.array(list([1] + list(x_i))) * (sum(x_i * beta[1:]) + beta[0] - y_i))"
   ]
  },
  {
   "cell_type": "code",
   "execution_count": null,
   "metadata": {},
   "outputs": [],
   "source": [
    "print(2 * np.array(list([1] + list(boston.feature[1]))) * (sum(boston.feature[1] * beta[1:]) + beta[0] - boston.target[1]))"
   ]
  },
  {
   "cell_type": "code",
   "execution_count": null,
   "metadata": {},
   "outputs": [],
   "source": [
    "np.array(list([1] + list(boston.feature[1])))"
   ]
  },
  {
   "cell_type": "code",
   "execution_count": null,
   "metadata": {},
   "outputs": [],
   "source": [
    "boston.loss_function.full_loss(boston.beta)"
   ]
  },
  {
   "cell_type": "code",
   "execution_count": null,
   "metadata": {},
   "outputs": [],
   "source": [
    "352718718.6365987 - 242224384.43047115"
   ]
  },
  {
   "cell_type": "code",
   "execution_count": null,
   "metadata": {},
   "outputs": [],
   "source": [
    "boston.beta"
   ]
  },
  {
   "cell_type": "code",
   "execution_count": null,
   "metadata": {},
   "outputs": [],
   "source": [
    "from test import *"
   ]
  },
  {
   "cell_type": "code",
   "execution_count": null,
   "metadata": {},
   "outputs": [],
   "source": [
    "# coding: utf-8\n",
    "import numpy as np\n",
    "import matplotlib.pyplot as plt\n",
    "from collections import OrderedDict\n",
    "from optimizer import *\n",
    "from math import exp\n",
    "import time"
   ]
  },
  {
   "cell_type": "code",
   "execution_count": null,
   "metadata": {
    "scrolled": true
   },
   "outputs": [],
   "source": [
    "def f(x, y):\n",
    "    return x * np.exp(-x * x - y * y)\n",
    "\n",
    "\n",
    "def df(x, y):\n",
    "    return (1 - 2 * x ** 2) * exp(-x ** 2 - y ** 2), -2 * x * y * exp(-x ** 2 - y ** 2)\n",
    "\n",
    "\n",
    "init_pos = (.5, .5)\n",
    "params = np.array([_ for _ in init_pos])\n",
    "grads = np.array([0, 0])\n",
    "\n",
    "optimizers = OrderedDict()\n",
    "optimizers[\"SGD\"] = SGD(lr=1)\n",
    "optimizers[\"Momentum\"] = Momentum(lr=0.1)\n",
    "optimizers[\"AdaGrad\"] = AdaGrad(lr=1.5)\n",
    "optimizers[\"Adam\"] = Adam(lr=0.09)\n",
    "optimizers[\"Nesterov\"] = Nesterov(lr=0.1)\n",
    "\n",
    "optimizer = optimizers[\"AdaGrad\"]\n",
    "x_history, y_history = [], []\n",
    "params = np.array([_ for _ in init_pos])\n",
    "\n",
    "x = np.arange(-10, 10, 0.01)\n",
    "y = np.arange(-5, 5, 0.01)\n",
    "\n",
    "X, Y = np.meshgrid(x, y)\n",
    "Z = f(X, Y)\n",
    "mask = Z > 16\n",
    "Z[mask] = 0\n",
    "\n",
    "\n",
    "\n",
    "for i in range(150):\n",
    "    x_history.append(params[0])\n",
    "    y_history.append(params[1])\n",
    "    #print(x_history[i], y_history[i])\n",
    "    grads = np.array(df(params[0], params[1]))\n",
    "    optimizer.update(params, grads)\n",
    "\n",
    "\n",
    "plt.ylim(-5, 5)\n",
    "plt.xlim(-2.5, 2.5)\n",
    "plt.plot(0, 0, '+')\n",
    "plt.xlabel(\"x\")\n",
    "plt.ylabel(\"y\")\n",
    "\n",
    "plt.plot(x_history, y_history, 'o-', color=\"red\")\n",
    "plt.contour(X, Y, Z)\n",
    "\n",
    "plt.show()\n",
    "    #time.sleep(1)\n",
    "    \n",
    "print(params)"
   ]
  },
  {
   "cell_type": "code",
   "execution_count": null,
   "metadata": {},
   "outputs": [],
   "source": [
    "optimizers = OrderedDict()\n",
    "optimizers[\"SGD\"] = SGD(lr=1)\n",
    "optimizers[\"Momentum\"] = Momentum(lr=0.01)\n",
    "optimizers[\"AdaGrad\"] = AdaGrad(lr=1.5)\n",
    "optimizers[\"Adam\"] = Adam(lr=0.09)\n",
    "optimizers[\"Nesterov\"] = Nesterov(lr=0.01)"
   ]
  },
  {
   "cell_type": "code",
   "execution_count": null,
   "metadata": {},
   "outputs": [],
   "source": [
    "def f(x, y):\n",
    "    return x * np.exp(-x * x - y * y)\n",
    "\n",
    "\n",
    "def df(x, y):\n",
    "    return (1 - 2 * x ** 2) * exp(-x ** 2 - y ** 2), -2 * x * y * exp(-x ** 2 - y ** 2)\n",
    "\n",
    "init_pos = (.5, 0.1)\n",
    "params = np.array([_ for _ in init_pos])\n",
    "grads = np.array([0, 0])\n",
    "\n",
    "optimizer = optimizers[\"Nesterov\"]\n",
    "x_history, y_history = [], []\n",
    "params = np.array([_ for _ in init_pos])\n",
    "\n",
    "x = np.arange(-10, 10, 0.01)\n",
    "y = np.arange(-5, 5, 0.01)\n",
    "\n",
    "X, Y = np.meshgrid(x, y)\n",
    "Z = f(X, Y)\n",
    "mask = Z > 16\n",
    "Z[mask] = 0\n",
    "\n",
    "min_pos, min_value = None, float('inf')\n",
    "iterations_without_movement = 0\n",
    "trial = 0\n",
    "while iterations_without_movement < 100:\n",
    "    x_history.append(params[0])\n",
    "    y_history.append(params[1])\n",
    "    value = f(params[0], params[1])\n",
    "    \n",
    "    if value < min_value:\n",
    "        min_pos, min_value = params, value\n",
    "        iterations_without_movement = 0\n",
    "        optimizer.lr = 1\n",
    "    \n",
    "    else:\n",
    "        iterations_without_movement += 1\n",
    "        optimizer.lr *= .9\n",
    "        \n",
    "    optimizer.update(params, np.array(df(params[0], params[1])))\n",
    "    trial += 1\n",
    "    \n",
    "plt.ylim(-5, 5)\n",
    "plt.xlim(-2.5, 2.5)\n",
    "plt.plot(0, 0, '+')\n",
    "plt.xlabel(\"x\")\n",
    "plt.ylabel(\"y\")\n",
    "\n",
    "plt.plot(x_history, y_history, 'o-', color=\"red\")\n",
    "plt.contour(X, Y, Z)\n",
    "\n",
    "plt.show()\n",
    "print(params)\n",
    "print(trial)"
   ]
  },
  {
   "cell_type": "code",
   "execution_count": null,
   "metadata": {},
   "outputs": [],
   "source": [
    "target_dict = {i: element for i, element in enumerate(set([1,3,2,'t',1,1,0,1,]))}\n",
    "target_dict\n",
    "for i, key in enumerate(target_dict):\n",
    "    target_dict[key] = [1 if _ == i else 0 for _ in range(3)]\n",
    "target_dict"
   ]
  },
  {
   "cell_type": "code",
   "execution_count": null,
   "metadata": {},
   "outputs": [],
   "source": [
    "res = dict.fromkeys(set([1,3,2,'t',1,1,0,1,]))\n",
    "res"
   ]
  },
  {
   "cell_type": "code",
   "execution_count": null,
   "metadata": {},
   "outputs": [],
   "source": [
    "from collections import defaultdict\n",
    "\n",
    "beta_set = defaultdict()\n",
    "for i in range(3):\n",
    "    beta_set[i] = np.random.randn(9 + 1)"
   ]
  },
  {
   "cell_type": "code",
   "execution_count": null,
   "metadata": {},
   "outputs": [],
   "source": [
    "beta_set[1]"
   ]
  },
  {
   "cell_type": "code",
   "execution_count": null,
   "metadata": {},
   "outputs": [],
   "source": [
    "beta_set"
   ]
  },
  {
   "cell_type": "code",
   "execution_count": 13,
   "metadata": {},
   "outputs": [
    {
     "name": "stdout",
     "output_type": "stream",
     "text": [
      "Visualization of various SGD methods convergence with some functions\n",
      "Some options that you can choose are the followings\n",
      " * Functions\n",
      "\t 1. f(x, y) = x**2/20 + y**2\n",
      "\t 2. f(x, y) = x * exp(-x**2 -y**2)\n",
      "Choose a function : 2\n",
      "You've chose f(x, y) = x * exp(-x**2 -y**2)\n",
      "\n",
      "\n",
      " * Optimizers\n",
      "\t 1. Normal Stochastic Gradient Descent(we've done in class\n",
      "\t 2. Momentum SGD\n",
      "\t 3. AdaGrad\n",
      "\t 4. Adam(combination of Momentum SGD and AdaGrad)\n",
      "\t 5. Nesterov\n",
      "\t 6. See them all\n",
      "\t there are no options of choosing multiple optimizers\n",
      "\t if you choose between 1 - 4, you will see how they converge time by time\n",
      "Choose a optimizer : 5\n",
      "You've chose Nesterov\n",
      "0.01\n"
     ]
    },
    {
     "data": {
      "image/png": "[encoded data removed]",
      "text/plain": [
       "<Figure size 432x288 with 1 Axes>"
      ]
     },
     "metadata": {
      "needs_background": "light"
     },
     "output_type": "display_data"
    },
    {
     "name": "stdout",
     "output_type": "stream",
     "text": [
      "[-3.16227766  0.        ]\n",
      "1772\n"
     ]
    }
   ],
   "source": [
    "# coding: utf-8\n",
    "import numpy as np\n",
    "import matplotlib.pyplot as plt\n",
    "from collections import OrderedDict\n",
    "from optimizer import *\n",
    "import time\n",
    "from math import exp\n",
    "\n",
    "\n",
    "def f(func):\n",
    "    def f1(x, y):\n",
    "        return x ** 2 / 20.0 + y ** 2\n",
    "\n",
    "    def df1(x, y):\n",
    "        return x / 10, 2 * y\n",
    "\n",
    "    def f2(x, y):\n",
    "        return 3 * x * np.exp(-x * x / 20 - y * y / 20)\n",
    "\n",
    "    def df2(x, y):\n",
    "        return -0.3*(x**2 - 10) * exp(-0.05*(x**2+y**2)), -0.3*x*y*exp(-0.05*(x**2+y**2))\n",
    "    \n",
    "    def f3(x, y):\n",
    "        return x * y * np.exp(-x * x / 20 - y * y / 20)\n",
    "    \n",
    "    def df3(x, y):\n",
    "        return -0.1*(x**2 - 10) * y * np.exp(-0.05*(x**2+y**2)), -0.1*x*(y**2-10)*np.exp(-0.05*(x**2+y**2))\n",
    "\n",
    "    return {1: (f1, df1, (-7., 2.), (-10, 10, -10, 10)),\n",
    "            2: (f2, df2, (1., 3.), (-10, 10, -10, 10)),\n",
    "           3: (f3, df3, (-1., 2.), (-10., 10., -10., 10.))}[func]\n",
    "\n",
    "\n",
    "def o(opt):\n",
    "    if opt is 6:\n",
    "        optimizers = OrderedDict()\n",
    "        optimizers[\"SGD\"] = SGD(lr=1)\n",
    "        optimizers[\"Momentum\"] = Momentum(lr=0.01)\n",
    "        optimizers[\"AdaGrad\"] = AdaGrad(lr=0.1)\n",
    "        optimizers[\"Adam\"] = Adam(lr=0.001)\n",
    "        optimizers[\"Nesterov\"] = Nesterov(lr=0.01)\n",
    "        return optimizers\n",
    "\n",
    "    else:\n",
    "        return {1: SGD, 2: Momentum, 3: AdaGrad, 4: Adam, 5: Nesterov}[opt]()\n",
    "\n",
    "\n",
    "def plot(functions, optimizer):\n",
    "    f, df, init_pos = functions[:3]\n",
    "    params = np.array(list(init_pos))\n",
    "    x_history, y_history = [], []\n",
    "\n",
    "    x = np.arange(-10, 10, 0.01)\n",
    "    y = np.arange(-5, 5, 0.01)\n",
    "\n",
    "    x_lim_left, x_lim_right, y_lim_left, y_lim_right = functions[-1]\n",
    "\n",
    "    X, Y = np.meshgrid(x, y)\n",
    "    Z = f(X, Y)\n",
    "    mask = Z > 16\n",
    "    Z[mask] = 0\n",
    "\n",
    "    if type(optimizer) == dict:\n",
    "        pass\n",
    "    else:\n",
    "        min_pos, min_value = None, float('inf')\n",
    "        iterations_without_movement = 0\n",
    "        trial = 0\n",
    "        while iterations_without_movement < 130:\n",
    "            x_history.append(params[0])\n",
    "            y_history.append(params[1])\n",
    "            value = f(params[0], params[1])\n",
    "\n",
    "            if value < min_value:\n",
    "                min_pos, min_value = params, value\n",
    "                iterations_without_movement = 0\n",
    "                optimizer.lr = 1\n",
    "\n",
    "            else:\n",
    "                iterations_without_movement += 1\n",
    "                optimizer.lr *= .9\n",
    "\n",
    "            optimizer.update(params, np.array(df(params[0], params[1])))\n",
    "            trial += 1\n",
    "\n",
    "        plt.xlim(x_lim_left, x_lim_right)\n",
    "        plt.ylim(y_lim_left, y_lim_right)\n",
    "        plt.xlabel(\"x\")\n",
    "        plt.ylabel(\"y\")\n",
    "\n",
    "        plt.plot(x_history, y_history, 'o-', color=\"red\")\n",
    "        plt.contour(X, Y, Z)\n",
    "\n",
    "        plt.show()\n",
    "        print(params)\n",
    "        print(trial)\n",
    "\n",
    "\n",
    "if __name__ == \"__main__\":\n",
    "    print(\"Visualization of various SGD methods convergence with some functions\")\n",
    "    time.sleep(.5)\n",
    "    print(\"Some options that you can choose are the followings\")\n",
    "\n",
    "\n",
    "    print(\" * Functions\")\n",
    "    print(\"\\t 1. f(x, y) = x**2/20 + y**2\")\n",
    "    print(\"\\t 2. f(x, y) = x * exp(-x**2 -y**2)\")\n",
    "    func_ = int(input(\"Choose a function : \"))\n",
    "    print(\"You've chose \" +\n",
    "          {1: \"f(x, y) = x**2/20 + y**2 \",\n",
    "           2: \"f(x, y) = x * exp(-x**2 -y**2)\",\n",
    "          3: \" \"}[func_])\n",
    "\n",
    "    print(\"\\n\")\n",
    "    time.sleep(1)\n",
    "\n",
    "    print(\" * Optimizers\")\n",
    "    print(\"\\t 1. Normal Stochastic Gradient Descent(we've done in class\")\n",
    "    print(\"\\t 2. Momentum SGD\")\n",
    "    print(\"\\t 3. AdaGrad\")\n",
    "    print(\"\\t 4. Adam(combination of Momentum SGD and AdaGrad)\")\n",
    "    print(\"\\t 5. Nesterov\")\n",
    "    print(\"\\t 6. See them all\")\n",
    "    print(\"\\t there are no options of choosing multiple optimizers\")\n",
    "    print(\"\\t if you choose between 1 - 4, you will see how they converge time by time\")\n",
    "    opt_ = int(input(\"Choose a optimizer : \"))\n",
    "    if opt_ == 6:\n",
    "        pass\n",
    "    else:\n",
    "        # 1 by 1\n",
    "        pass\n",
    "\n",
    "    print(\"You've chose \" +\n",
    "          {1: \"Normal Stochastic Gradient Descent(we've done in class\",\n",
    "           2: \"Momentum SGD\",\n",
    "           3: \"AdaGrad\",\n",
    "           4: \"Adam(combination of Momentum SGD and AdaGrad\",\n",
    "           5: \"Nesterov\",\n",
    "           6: \"See them all\"}[opt_])\n",
    "\n",
    "    func = f(func_)\n",
    "    opt = o(opt_)\n",
    "    print(opt.lr)\n",
    "    plot(func, opt)\n",
    "        "
   ]
  },
  {
   "cell_type": "markdown",
   "metadata": {},
   "source": [
    "# "
   ]
  }
 ],
 "metadata": {
  "kernelspec": {
   "display_name": "Python 3",
   "language": "python",
   "name": "python3"
  },
  "language_info": {
   "codemirror_mode": {
    "name": "ipython",
    "version": 3
   },
   "file_extension": ".py",
   "mimetype": "text/x-python",
   "name": "python",
   "nbconvert_exporter": "python",
   "pygments_lexer": "ipython3",
   "version": "3.7.1"
  }
 },
 "nbformat": 4,
 "nbformat_minor": 2
}
