{
 "cells": [
  {
   "cell_type": "code",
   "execution_count": null,
   "metadata": {},
   "outputs": [],
   "source": [
    "import numpy as np\n",
    "layer_structure = [5, 6, 2]\n",
    "weights = {i: np.random.rand(element, layer_structure[i+1]) for i, element in enumerate(layer_structure[:-1])}\n",
    "weights[0].shape"
   ]
  },
  {
   "cell_type": "code",
   "execution_count": 19,
   "metadata": {},
   "outputs": [
    {
     "ename": "SyntaxError",
     "evalue": "invalid syntax (<ipython-input-19-c2bc0a8d7e57>, line 9)",
     "output_type": "error",
     "traceback": [
      "\u001b[1;36m  File \u001b[1;32m\"<ipython-input-19-c2bc0a8d7e57>\"\u001b[1;36m, line \u001b[1;32m9\u001b[0m\n\u001b[1;33m    data_wo_str = [[float(d) if i in [1, 2, 5, 6, 7, 8, 10] else pass for i, d in enumerate(line)] for line in data]\u001b[0m\n\u001b[1;37m                                                                    ^\u001b[0m\n\u001b[1;31mSyntaxError\u001b[0m\u001b[1;31m:\u001b[0m invalid syntax\n"
     ]
    }
   ],
   "source": [
    "import csv\n",
    "from data_analysis.loss_function import *\n",
    "from data_analysis.main import *\n",
    "from data_analysis.optimizer import *\n",
    "\n",
    "data_ = csv.reader(open(\"train.csv\"))\n",
    "header = data_.__next__()\n",
    "data = list(data_)\n",
    "data_wo_str = [[float(d) if i in [1, 2, 5, 6, 7, 8, 10] else pass for i, d in enumerate(line)] for line in data]"
   ]
  },
  {
   "cell_type": "code",
   "execution_count": null,
   "metadata": {},
   "outputs": [],
   "source": []
  }
 ],
 "metadata": {
  "kernelspec": {
   "display_name": "Python 3",
   "language": "python",
   "name": "python3"
  },
  "language_info": {
   "codemirror_mode": {
    "name": "ipython",
    "version": 3
   },
   "file_extension": ".py",
   "mimetype": "text/x-python",
   "name": "python",
   "nbconvert_exporter": "python",
   "pygments_lexer": "ipython3",
   "version": "3.7.1"
  }
 },
 "nbformat": 4,
 "nbformat_minor": 2
}
